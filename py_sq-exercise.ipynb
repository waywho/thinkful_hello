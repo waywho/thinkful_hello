{
 "cells": [
  {
   "cell_type": "code",
   "execution_count": 2,
   "metadata": {
    "collapsed": false
   },
   "outputs": [
    {
     "name": "stdout",
     "output_type": "stream",
     "text": [
      "SQLite version: 3.8.4.1\n"
     ]
    }
   ],
   "source": [
    "import sqlite3 as lite\n",
    "\n",
    "con = lite.connect('getting_started.db')\n",
    "\n",
    "with con:\n",
    "    cur = con.cursor()\n",
    "    cur.execute('SELECT SQLITE_VERSION()')\n",
    "    data = cur.fetchone()\n",
    "    print \"SQLite version: %s\" % data"
   ]
  },
  {
   "cell_type": "code",
   "execution_count": 3,
   "metadata": {
    "collapsed": false
   },
   "outputs": [],
   "source": [
    "import sqlite3 as lite\n",
    "\n",
    "con = lite.connect('getting_started.db')\n",
    "\n",
    "with con:\n",
    "    \n",
    "    cur = con.cursor()\n",
    "    cur.execute(\"INSERT INTO cities VALUES ('Washington', 'DC')\")\n",
    "    cur.execute(\"INSERT INTO cities VALUEs ('Houston', 'TX')\")\n",
    "    cur.execute(\"INSERT INTO weather VALUES ('Washington', 2013, 'July', 'January', 62)\")\n",
    "    cur.execute(\"INSERT INTO weather VALUEs ('Houston', 2013, 'July', 'January', 55)\")"
   ]
  },
  {
   "cell_type": "code",
   "execution_count": 8,
   "metadata": {
    "collapsed": false
   },
   "outputs": [],
   "source": [
    "import sqlite3 as lite\n",
    "\n",
    "cities = (('Las Vegas', 'NV'), ('Atlanta', 'GA'))\n",
    "           \n",
    "weather = (('Las Vegas', 2013, 'July', 'December', 66), ('Atlanta', 2013, 'July', 'January', 55))\n",
    "\n",
    "con = lite.connect('getting_started.db')\n",
    "\n",
    "with con:\n",
    "        cur = con.cursor()\n",
    "        cur.executemany(\"INSERT INTO cities VALUES(?, ?)\", cities)\n",
    "        cur.executemany(\"INSERT INTO weather VALUES(?,?,?,?,?)\", weather)"
   ]
  },
  {
   "cell_type": "code",
   "execution_count": 9,
   "metadata": {
    "collapsed": false
   },
   "outputs": [
    {
     "name": "stdout",
     "output_type": "stream",
     "text": [
      "(u'New York City', u'NY')\n",
      "(u'Boston', u'MA')\n",
      "(u'Chicago', u'IL')\n",
      "(u'Miami', u'FL')\n",
      "(u'Dallas', u'TX')\n",
      "(u'Seattle', u'WA')\n",
      "(u'Portland', u'OR')\n",
      "(u'San Francisco', u'CA')\n",
      "(u'Los Angeles', u'CA')\n",
      "(u'Washington', u'DC')\n",
      "(u'Houston', u'TX')\n",
      "(u'Las Vegas', u'NV')\n",
      "(u'Atlanta', u'GA')\n"
     ]
    }
   ],
   "source": [
    "with con:\n",
    "    cur = con.cursor()\n",
    "    cur.execute(\"SELECT * FROM cities\")\n",
    "    \n",
    "    rows = cur.fetchall()\n",
    "    \n",
    "    for row in rows:\n",
    "        print row\n",
    "    "
   ]
  },
  {
   "cell_type": "code",
   "execution_count": 11,
   "metadata": {
    "collapsed": false
   },
   "outputs": [],
   "source": [
    "import pandas as pd\n",
    "\n",
    "with con:\n",
    "    cur = con.cursor()\n",
    "    cur.execute(\"SELECT * FROM cities\")\n",
    "    \n",
    "    rows = cur.fetchall()\n",
    "    df = pd.DataFrame(rows)"
   ]
  },
  {
   "cell_type": "code",
   "execution_count": 12,
   "metadata": {
    "collapsed": false
   },
   "outputs": [
    {
     "data": {
      "text/html": [
       "<div style=\"max-height:1000px;max-width:1500px;overflow:auto;\">\n",
       "<table border=\"1\" class=\"dataframe\">\n",
       "  <thead>\n",
       "    <tr style=\"text-align: right;\">\n",
       "      <th></th>\n",
       "      <th>0</th>\n",
       "      <th>1</th>\n",
       "    </tr>\n",
       "  </thead>\n",
       "  <tbody>\n",
       "    <tr>\n",
       "      <th>0</th>\n",
       "      <td>New York City</td>\n",
       "      <td>NY</td>\n",
       "    </tr>\n",
       "    <tr>\n",
       "      <th>1</th>\n",
       "      <td>Boston</td>\n",
       "      <td>MA</td>\n",
       "    </tr>\n",
       "    <tr>\n",
       "      <th>2</th>\n",
       "      <td>Chicago</td>\n",
       "      <td>IL</td>\n",
       "    </tr>\n",
       "    <tr>\n",
       "      <th>3</th>\n",
       "      <td>Miami</td>\n",
       "      <td>FL</td>\n",
       "    </tr>\n",
       "    <tr>\n",
       "      <th>4</th>\n",
       "      <td>Dallas</td>\n",
       "      <td>TX</td>\n",
       "    </tr>\n",
       "  </tbody>\n",
       "</table>\n",
       "</div>"
      ],
      "text/plain": [
       "               0   1\n",
       "0  New York City  NY\n",
       "1         Boston  MA\n",
       "2        Chicago  IL\n",
       "3          Miami  FL\n",
       "4         Dallas  TX"
      ]
     },
     "execution_count": 12,
     "metadata": {},
     "output_type": "execute_result"
    }
   ],
   "source": [
    "df.head()"
   ]
  },
  {
   "cell_type": "code",
   "execution_count": 13,
   "metadata": {
    "collapsed": false
   },
   "outputs": [
    {
     "data": {
      "text/plain": [
       "(('name', None, None, None, None, None, None),\n",
       " ('state', None, None, None, None, None, None))"
      ]
     },
     "execution_count": 13,
     "metadata": {},
     "output_type": "execute_result"
    }
   ],
   "source": [
    "cur.description"
   ]
  },
  {
   "cell_type": "code",
   "execution_count": 18,
   "metadata": {
    "collapsed": true
   },
   "outputs": [],
   "source": [
    "import sqlite3 as lite\n",
    "import pandas as pd\n",
    "\n",
    "with con:\n",
    "    cur = con.cursor()\n",
    "    cur.execute(\"SELECT * FROM cities\")\n",
    "    \n",
    "    rows = cur.fetchall()\n",
    "    cols = [desc[0] for desc in cur.description]\n",
    "    df = pd.DataFrame(rows, columns = cols)"
   ]
  },
  {
   "cell_type": "code",
   "execution_count": 19,
   "metadata": {
    "collapsed": false
   },
   "outputs": [
    {
     "data": {
      "text/html": [
       "<div style=\"max-height:1000px;max-width:1500px;overflow:auto;\">\n",
       "<table border=\"1\" class=\"dataframe\">\n",
       "  <thead>\n",
       "    <tr style=\"text-align: right;\">\n",
       "      <th></th>\n",
       "      <th>name</th>\n",
       "      <th>state</th>\n",
       "    </tr>\n",
       "  </thead>\n",
       "  <tbody>\n",
       "    <tr>\n",
       "      <th>0</th>\n",
       "      <td>New York City</td>\n",
       "      <td>NY</td>\n",
       "    </tr>\n",
       "    <tr>\n",
       "      <th>1</th>\n",
       "      <td>Boston</td>\n",
       "      <td>MA</td>\n",
       "    </tr>\n",
       "    <tr>\n",
       "      <th>2</th>\n",
       "      <td>Chicago</td>\n",
       "      <td>IL</td>\n",
       "    </tr>\n",
       "    <tr>\n",
       "      <th>3</th>\n",
       "      <td>Miami</td>\n",
       "      <td>FL</td>\n",
       "    </tr>\n",
       "    <tr>\n",
       "      <th>4</th>\n",
       "      <td>Dallas</td>\n",
       "      <td>TX</td>\n",
       "    </tr>\n",
       "  </tbody>\n",
       "</table>\n",
       "</div>"
      ],
      "text/plain": [
       "            name state\n",
       "0  New York City    NY\n",
       "1         Boston    MA\n",
       "2        Chicago    IL\n",
       "3          Miami    FL\n",
       "4         Dallas    TX"
      ]
     },
     "execution_count": 19,
     "metadata": {},
     "output_type": "execute_result"
    }
   ],
   "source": [
    "df.head()"
   ]
  },
  {
   "cell_type": "code",
   "execution_count": null,
   "metadata": {
    "collapsed": true
   },
   "outputs": [],
   "source": []
  }
 ],
 "metadata": {
  "kernelspec": {
   "display_name": "Python 2",
   "language": "python",
   "name": "python2"
  },
  "language_info": {
   "codemirror_mode": {
    "name": "ipython",
    "version": 2
   },
   "file_extension": ".py",
   "mimetype": "text/x-python",
   "name": "python",
   "nbconvert_exporter": "python",
   "pygments_lexer": "ipython2",
   "version": "2.7.9"
  }
 },
 "nbformat": 4,
 "nbformat_minor": 0
}
