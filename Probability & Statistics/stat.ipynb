{
 "cells": [
  {
   "cell_type": "code",
   "execution_count": 9,
   "metadata": {
    "collapsed": true
   },
   "outputs": [],
   "source": [
    "import pandas as pd\n",
    "from scipy import stats\n",
    "\n",
    "data = '''Region, Alcohol, Tobacco\n",
    "North, 6.47, 4.03\n",
    "Yorkshire, 6.13, 3.76\n",
    "Northeast, 6.19, 3.77\n",
    "East Midlands, 4.89, 3.34\n",
    "West Midlands, 5.63, 3.47\n",
    "East Anglia, 4.52, 2.92\n",
    "Southeast, 5.89, 3.20\n",
    "Southwest, 4.79, 2.71\n",
    "Wales, 5.27, 3.53\n",
    "Scotland, 6.08, 4.51\n",
    "Northern Ireland, 4.02, 4.56'''"
   ]
  },
  {
   "cell_type": "code",
   "execution_count": 10,
   "metadata": {
    "collapsed": true
   },
   "outputs": [],
   "source": [
    "data = data.splitlines()"
   ]
  },
  {
   "cell_type": "code",
   "execution_count": 11,
   "metadata": {
    "collapsed": true
   },
   "outputs": [],
   "source": [
    "data = [i.split(', ') for i in data]"
   ]
  },
  {
   "cell_type": "code",
   "execution_count": 12,
   "metadata": {
    "collapsed": true
   },
   "outputs": [],
   "source": [
    "column_names = data[0] # this is the first row\n",
    "data_rows = data[1::] # thesea re all the following rows\n",
    "df = pd.DataFrame(data_rows, columns=column_names)"
   ]
  },
  {
   "cell_type": "code",
   "execution_count": 13,
   "metadata": {
    "collapsed": true
   },
   "outputs": [],
   "source": [
    "df['Alcohol'] = df['Alcohol'].astype(float)\n",
    "df['Tobacco'] = df['Tobacco'].astype(float)"
   ]
  },
  {
   "cell_type": "code",
   "execution_count": 31,
   "metadata": {
    "collapsed": false
   },
   "outputs": [],
   "source": [
    "alco_mean = df['Alcohol'].mean()"
   ]
  },
  {
   "cell_type": "code",
   "execution_count": 32,
   "metadata": {
    "collapsed": false
   },
   "outputs": [],
   "source": [
    "alco_med = df['Alcohol'].median()"
   ]
  },
  {
   "cell_type": "code",
   "execution_count": 33,
   "metadata": {
    "collapsed": false
   },
   "outputs": [],
   "source": [
    "alco_mode = stats.mode(df['Alcohol'])"
   ]
  },
  {
   "cell_type": "code",
   "execution_count": 34,
   "metadata": {
    "collapsed": false
   },
   "outputs": [],
   "source": [
    "tob_mean = df['Tobacco'].mean()"
   ]
  },
  {
   "cell_type": "code",
   "execution_count": 35,
   "metadata": {
    "collapsed": false
   },
   "outputs": [],
   "source": [
    "tob_med = df['Tobacco'].median()"
   ]
  },
  {
   "cell_type": "code",
   "execution_count": 36,
   "metadata": {
    "collapsed": false
   },
   "outputs": [],
   "source": [
    "tob_mod = stats.mode(df['Tobacco'])"
   ]
  },
  {
   "cell_type": "code",
   "execution_count": 37,
   "metadata": {
    "collapsed": false
   },
   "outputs": [],
   "source": [
    "alco_range = max(df['Alcohol']) - min(df['Alcohol'])"
   ]
  },
  {
   "cell_type": "code",
   "execution_count": 38,
   "metadata": {
    "collapsed": false
   },
   "outputs": [],
   "source": [
    "alco_std = df['Alcohol'].std()"
   ]
  },
  {
   "cell_type": "code",
   "execution_count": 39,
   "metadata": {
    "collapsed": false
   },
   "outputs": [],
   "source": [
    "alco_var = df['Alcohol'].var()"
   ]
  },
  {
   "cell_type": "code",
   "execution_count": 40,
   "metadata": {
    "collapsed": false
   },
   "outputs": [],
   "source": [
    "tob_range = max(df['Tobacco']) - min(df['Tobacco'])"
   ]
  },
  {
   "cell_type": "code",
   "execution_count": 41,
   "metadata": {
    "collapsed": false
   },
   "outputs": [],
   "source": [
    "tob_std = df['Tobacco'].std()"
   ]
  },
  {
   "cell_type": "code",
   "execution_count": 42,
   "metadata": {
    "collapsed": false
   },
   "outputs": [],
   "source": [
    "tob_var = df['Tobacco'].var()"
   ]
  },
  {
   "cell_type": "code",
   "execution_count": 48,
   "metadata": {
    "collapsed": true
   },
   "outputs": [],
   "source": [
    "alc_result = {\n",
    "    'mean': df['Alcohol'].mean(),\n",
    "    'median': df['Alcohol'].median(),\n",
    "    'mode': stats.mode(df['Alcohol']),\n",
    "    'range': max(df['Alcohol']) - min(df['Alcohol']),\n",
    "    'variance': df['Alcohol'].var(),\n",
    "    'standard deviation': df['Alcohol'].std()\n",
    "}\n",
    "\n",
    "tob_result = {\n",
    "    'mean': df['Tobacco'].mean(),\n",
    "    'median': df['Tobacco'].median(),\n",
    "    'mode': stats.mode(df['Tobacco']),\n",
    "    'range': max(df['Tobacco']) - min(df['Tobacco']),\n",
    "    'variance': df['Tobacco'].var(),\n",
    "    'standard deviation': df['Tobacco'].std()\n",
    "}"
   ]
  },
  {
   "cell_type": "code",
   "execution_count": 50,
   "metadata": {
    "collapsed": false
   },
   "outputs": [
    {
     "name": "stdout",
     "output_type": "stream",
     "text": [
      "The weekly Alcohol spending mean for the Alcohol and Tobacco dataset is 5.44363636364\n",
      "The weekly Alcohol spending median for the Alcohol and Tobacco dataset is 5.63\n",
      "The weekly Alcohol spending mode for the Alcohol and Tobacco dataset is (array([ 4.02]), array([ 1.]))\n",
      "The weekly Alcohol spending range for the Alcohol and Tobacco dataset is 2.45\n",
      "The weekly Alcohol spending variance for the Alcohol and Tobacco dataset is 0.636425454545\n",
      "The weekly Alcohol spending standard deviation for the Alcohol and Tobacco dataset is 0.797762780873\n",
      "\n",
      "\n",
      "The weekly Tobacco spending mean for the Alcohol and Tobacco dataset is 3.61818181818\n",
      "The weekly Tobacco spending median for the Alcohol and Tobacco dataset is 3.53\n",
      "The weekly Tobacco spending mode for the Alcohol and Tobacco dataset is (array([ 2.71]), array([ 1.]))\n",
      "The weekly Tobacco spending range for the Alcohol and Tobacco dataset is 1.85\n",
      "The weekly Tobacco spending variance for the Alcohol and Tobacco dataset is 0.348936363636\n",
      "The weekly Tobacco spending standard deviation for the Alcohol and Tobacco dataset is 0.590708357514\n"
     ]
    }
   ],
   "source": [
    "ct = ['mean', 'median', 'mode', 'range', 'variance', 'standard deviation']\n",
    "for i in ct:\n",
    "    print \"The weekly Alcohol spending %s for the Alcohol and Tobacco dataset is %s\" % (i, alc_result[i])\n",
    "\n",
    "print '\\n'\n",
    "    \n",
    "for i in ct:\n",
    "    print \"The weekly Tobacco spending %s for the Alcohol and Tobacco dataset is %s\" % (i, tob_result[i])"
   ]
  },
  {
   "cell_type": "code",
   "execution_count": null,
   "metadata": {
    "collapsed": true
   },
   "outputs": [],
   "source": []
  }
 ],
 "metadata": {
  "kernelspec": {
   "display_name": "Python 2",
   "language": "python",
   "name": "python2"
  },
  "language_info": {
   "codemirror_mode": {
    "name": "ipython",
    "version": 2
   },
   "file_extension": ".py",
   "mimetype": "text/x-python",
   "name": "python",
   "nbconvert_exporter": "python",
   "pygments_lexer": "ipython2",
   "version": "2.7.9"
  }
 },
 "nbformat": 4,
 "nbformat_minor": 0
}
