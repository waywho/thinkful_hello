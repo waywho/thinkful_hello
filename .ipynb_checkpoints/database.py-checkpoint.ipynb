{
 "cells": [
  {
   "cell_type": "code",
   "execution_count": 58,
   "metadata": {
    "collapsed": false
   },
   "outputs": [],
   "source": [
    "import sqlite3 as lite\n",
    "import pandas as pd\n",
    "\n",
    "con = lite.connect('getting_started.db')\n",
    "\n",
    "cities = (('New York City', 'NY'),\n",
    "    ('Boston', 'MA'),\n",
    "    ('Chicago', 'IL'),\n",
    "    ('Miami', 'FL'),\n",
    "    ('Dallas', 'TX'),\n",
    "    ('Seattle', 'WA'),\n",
    "    ('Portland', 'OR'),\n",
    "    ('San Francisco', 'CA'),\n",
    "    ('Los Angeles', 'CA'),\n",
    "    ('Los Vegas', 'NV'),\n",
    "    ('Atlanta', 'GA'))\n",
    "\n",
    "weather = (('New York City', 2013,  'July',        'January',     62),\n",
    "  ('Boston',          2013,    'July',        'January',     59),\n",
    "  ('Chicago',         2013,    'July',        'January',     59),\n",
    "  ('Miami',           2013,    'August',      'January',     84),\n",
    "  ('Dallas',          2013,    'July',        'January',     77),\n",
    "  ('Seattle',         2013,    'July',        'January',     61),\n",
    "  ('Portland',        2013,    'July',        'December',    63),\n",
    "  ('San Francisco',   2013,    'September',   'December',    64),\n",
    "  ('Los Angeles',     2013,    'September',   'December',    75),\n",
    "    ('Las Vegas', 2013, 'July', 'December', 66), ('Atlanta', 2013, 'July', 'January', 55))\n",
    "\n",
    "con = lite.connect('getting_started.db')\n",
    "\n",
    "with con:\n",
    "    cur = con.cursor()\n",
    "    cur.execute(\"DROP TABLE IF EXISTS cities\")\n",
    "    cur.execute(\"DROP TABLE IF EXISTS weather\")\n",
    "    cur.execute(\"CREATE TABLE cities (name text, state text)\")\n",
    "    cur.execute(\"CREATE TABLE weather (city text, year integer, warm_month text, cold_month text, average_high integer)\")\n",
    "    cur.executemany(\"INSERT INTO cities VALUES(?, ?)\", cities)\n",
    "    cur.executemany(\"INSERT INTO weather VALUES(?,?,?,?,?)\", weather)\n",
    "    cur.execute(\"SELECT city, state FROM (SELECT cities.name, cities.state, weather.city, weather.warm_month FROM cities INNER JOIN weather ON name = city) WHERE warm_month='July'\")\n",
    "    rows = cur.fetchall()\n",
    "    cols = [desc[0] for desc in cur.description]\n",
    "    df = pd.DataFrame(rows, columns = cols)"
   ]
  },
  {
   "cell_type": "code",
   "execution_count": 59,
   "metadata": {
    "collapsed": false
   },
   "outputs": [
    {
     "name": "stdout",
     "output_type": "stream",
     "text": [
      "The cities that are warmest in July are: New York City, NY, Boston, MA, Chicago, IL, Dallas, TX, Seattle, WA, Portland, OR, Atlanta, GA\n"
     ]
    }
   ],
   "source": [
    "july_list = df.as_matrix()\n",
    "\n",
    "print \"The cities that are warmest in July are: \" +  ', '.join(', '.join(str(cell) for cell in row) for row in july_list)"
   ]
  },
  {
   "cell_type": "code",
   "execution_count": null,
   "metadata": {
    "collapsed": true
   },
   "outputs": [],
   "source": []
  }
 ],
 "metadata": {
  "kernelspec": {
   "display_name": "Python 2",
   "language": "python",
   "name": "python2"
  },
  "language_info": {
   "codemirror_mode": {
    "name": "ipython",
    "version": 2
   },
   "file_extension": ".py",
   "mimetype": "text/x-python",
   "name": "python",
   "nbconvert_exporter": "python",
   "pygments_lexer": "ipython2",
   "version": "2.7.9"
  }
 },
 "nbformat": 4,
 "nbformat_minor": 0
}
