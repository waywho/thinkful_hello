{
 "cells": [
  {
   "cell_type": "code",
   "execution_count": 48,
   "metadata": {
    "collapsed": true
   },
   "outputs": [],
   "source": [
    "import numpy as np\n",
    "from pandas import Series, DataFrame\n",
    "import pandas as pd\n",
    "from datetime import datetime"
   ]
  },
  {
   "cell_type": "code",
   "execution_count": 2,
   "metadata": {
    "collapsed": false
   },
   "outputs": [
    {
     "data": {
      "text/plain": [
       "7"
      ]
     },
     "execution_count": 2,
     "metadata": {},
     "output_type": "execute_result"
    }
   ],
   "source": [
    "stamp = pd.Timestamp('7/17/2012 10:06:45')\n",
    "stamp.month"
   ]
  },
  {
   "cell_type": "code",
   "execution_count": 3,
   "metadata": {
    "collapsed": false
   },
   "outputs": [
    {
     "data": {
      "text/plain": [
       "2012"
      ]
     },
     "execution_count": 3,
     "metadata": {},
     "output_type": "execute_result"
    }
   ],
   "source": [
    "stamp.year"
   ]
  },
  {
   "cell_type": "code",
   "execution_count": 4,
   "metadata": {
    "collapsed": false
   },
   "outputs": [
    {
     "data": {
      "text/plain": [
       "45"
      ]
     },
     "execution_count": 4,
     "metadata": {},
     "output_type": "execute_result"
    }
   ],
   "source": [
    "stamp.second"
   ]
  },
  {
   "cell_type": "code",
   "execution_count": 5,
   "metadata": {
    "collapsed": false
   },
   "outputs": [
    {
     "data": {
      "text/plain": [
       "'20120717'"
      ]
     },
     "execution_count": 5,
     "metadata": {},
     "output_type": "execute_result"
    }
   ],
   "source": [
    "stamp.strftime('%Y%m%d')"
   ]
  },
  {
   "cell_type": "code",
   "execution_count": 6,
   "metadata": {
    "collapsed": false
   },
   "outputs": [
    {
     "data": {
      "text/plain": [
       "1342519605000000000"
      ]
     },
     "execution_count": 6,
     "metadata": {},
     "output_type": "execute_result"
    }
   ],
   "source": [
    "stamp.value #nanosecond timestamp"
   ]
  },
  {
   "cell_type": "code",
   "execution_count": 7,
   "metadata": {
    "collapsed": false
   },
   "outputs": [
    {
     "data": {
      "text/plain": [
       "['07/07/2012', '07/09/2012', '07/12/2012']"
      ]
     },
     "execution_count": 7,
     "metadata": {},
     "output_type": "execute_result"
    }
   ],
   "source": [
    "dates = ['07/07/2012', '07/09/2012', '07/12/2012']\n",
    "dates"
   ]
  },
  {
   "cell_type": "code",
   "execution_count": 8,
   "metadata": {
    "collapsed": false,
    "scrolled": true
   },
   "outputs": [
    {
     "data": {
      "text/plain": [
       "<class 'pandas.tseries.index.DatetimeIndex'>\n",
       "[2012-07-07, ..., 2012-07-12]\n",
       "Length: 3, Freq: None, Timezone: None"
      ]
     },
     "execution_count": 8,
     "metadata": {},
     "output_type": "execute_result"
    }
   ],
   "source": [
    "pd.DatetimeIndex(dates)"
   ]
  },
  {
   "cell_type": "code",
   "execution_count": 9,
   "metadata": {
    "collapsed": false
   },
   "outputs": [
    {
     "data": {
      "text/plain": [
       "[Timestamp('2012-07-07 00:00:00'),\n",
       " Timestamp('2012-09-07 00:00:00'),\n",
       " Timestamp('2012-12-07 00:00:00')]"
      ]
     },
     "execution_count": 9,
     "metadata": {},
     "output_type": "execute_result"
    }
   ],
   "source": [
    "list(pd.to_datetime(dates, dayfirst = True))"
   ]
  },
  {
   "cell_type": "code",
   "execution_count": 10,
   "metadata": {
    "collapsed": false
   },
   "outputs": [
    {
     "data": {
      "text/plain": [
       "2012-07-07    0\n",
       "2012-09-07    1\n",
       "2012-12-07    2\n",
       "dtype: int64"
      ]
     },
     "execution_count": 10,
     "metadata": {},
     "output_type": "execute_result"
    }
   ],
   "source": [
    "ts = Series(range(3), index = pd.to_datetime(dates, dayfirst = True))\n",
    "ts"
   ]
  },
  {
   "cell_type": "code",
   "execution_count": 50,
   "metadata": {
    "collapsed": false
   },
   "outputs": [
    {
     "data": {
      "text/plain": [
       "True"
      ]
     },
     "execution_count": 50,
     "metadata": {},
     "output_type": "execute_result"
    }
   ],
   "source": [
    "isinstance(ts.index[0], datetime)"
   ]
  },
  {
   "cell_type": "markdown",
   "metadata": {},
   "source": [
    "#Indexing"
   ]
  },
  {
   "cell_type": "code",
   "execution_count": 12,
   "metadata": {
    "collapsed": false
   },
   "outputs": [
    {
     "data": {
      "text/plain": [
       "2012-07-17      0\n",
       "2012-07-18      1\n",
       "2012-07-19      2\n",
       "2012-07-20      3\n",
       "2012-07-21      4\n",
       "2012-07-22      5\n",
       "2012-07-23      6\n",
       "2012-07-24      7\n",
       "2012-07-25      8\n",
       "2012-07-26      9\n",
       "2012-07-27     10\n",
       "2012-07-28     11\n",
       "2012-07-29     12\n",
       "2012-07-30     13\n",
       "2012-07-31     14\n",
       "2012-08-01     15\n",
       "2012-08-02     16\n",
       "2012-08-03     17\n",
       "2012-08-04     18\n",
       "2012-08-05     19\n",
       "2012-08-06     20\n",
       "2012-08-07     21\n",
       "2012-08-08     22\n",
       "2012-08-09     23\n",
       "2012-08-10     24\n",
       "2012-08-11     25\n",
       "2012-08-12     26\n",
       "2012-08-13     27\n",
       "2012-08-14     28\n",
       "2012-08-15     29\n",
       "             ... \n",
       "2015-03-14    970\n",
       "2015-03-15    971\n",
       "2015-03-16    972\n",
       "2015-03-17    973\n",
       "2015-03-18    974\n",
       "2015-03-19    975\n",
       "2015-03-20    976\n",
       "2015-03-21    977\n",
       "2015-03-22    978\n",
       "2015-03-23    979\n",
       "2015-03-24    980\n",
       "2015-03-25    981\n",
       "2015-03-26    982\n",
       "2015-03-27    983\n",
       "2015-03-28    984\n",
       "2015-03-29    985\n",
       "2015-03-30    986\n",
       "2015-03-31    987\n",
       "2015-04-01    988\n",
       "2015-04-02    989\n",
       "2015-04-03    990\n",
       "2015-04-04    991\n",
       "2015-04-05    992\n",
       "2015-04-06    993\n",
       "2015-04-07    994\n",
       "2015-04-08    995\n",
       "2015-04-09    996\n",
       "2015-04-10    997\n",
       "2015-04-11    998\n",
       "2015-04-12    999\n",
       "Freq: D, dtype: int64"
      ]
     },
     "execution_count": 12,
     "metadata": {},
     "output_type": "execute_result"
    }
   ],
   "source": [
    "rng = pd.date_range('2012-07-17', periods = 1000) #fixed frequency of index\n",
    "ts = Series(np.arange(1000), index = rng)\n",
    "ts"
   ]
  },
  {
   "cell_type": "code",
   "execution_count": 17,
   "metadata": {
    "collapsed": false
   },
   "outputs": [
    {
     "data": {
      "text/plain": [
       "2012-07-17     0\n",
       "2012-07-18     1\n",
       "2012-07-19     2\n",
       "2012-07-20     3\n",
       "2012-07-21     4\n",
       "2012-07-22     5\n",
       "2012-07-23     6\n",
       "2012-07-24     7\n",
       "2012-07-25     8\n",
       "2012-07-26     9\n",
       "2012-07-27    10\n",
       "2012-07-28    11\n",
       "2012-07-29    12\n",
       "2012-07-30    13\n",
       "2012-07-31    14\n",
       "2012-08-01    15\n",
       "Freq: D, dtype: int64"
      ]
     },
     "execution_count": 17,
     "metadata": {},
     "output_type": "execute_result"
    }
   ],
   "source": [
    "ts[:'2012-08-01']"
   ]
  },
  {
   "cell_type": "code",
   "execution_count": 21,
   "metadata": {
    "collapsed": false
   },
   "outputs": [
    {
     "data": {
      "text/plain": [
       "2012-07-20     3\n",
       "2012-07-21     4\n",
       "2012-07-22     5\n",
       "2012-07-23     6\n",
       "2012-07-24     7\n",
       "2012-07-25     8\n",
       "2012-07-26     9\n",
       "2012-07-27    10\n",
       "2012-07-28    11\n",
       "2012-07-29    12\n",
       "2012-07-30    13\n",
       "2012-07-31    14\n",
       "2012-08-01    15\n",
       "dtype: int64"
      ]
     },
     "execution_count": 21,
     "metadata": {},
     "output_type": "execute_result"
    }
   ],
   "source": [
    "ts2 = ts.take(np.random.permutation(len(ts)))\n",
    "ts2['2012-07-20':'2012-08-01 12:00'].sort_index()"
   ]
  },
  {
   "cell_type": "code",
   "execution_count": 22,
   "metadata": {
    "collapsed": false
   },
   "outputs": [
    {
     "data": {
      "text/plain": [
       "2012-07-17     0\n",
       "2012-07-18     1\n",
       "2012-07-19     2\n",
       "2012-07-20     3\n",
       "2012-07-21     4\n",
       "2012-07-22     5\n",
       "2012-07-23     6\n",
       "2012-07-24     7\n",
       "2012-07-25     8\n",
       "2012-07-26     9\n",
       "2012-07-27    10\n",
       "2012-07-28    11\n",
       "2012-07-29    12\n",
       "2012-07-30    13\n",
       "2012-07-31    14\n",
       "Freq: D, dtype: int64"
      ]
     },
     "execution_count": 22,
     "metadata": {},
     "output_type": "execute_result"
    }
   ],
   "source": [
    "ts['2012-7']"
   ]
  },
  {
   "cell_type": "code",
   "execution_count": 23,
   "metadata": {
    "collapsed": false
   },
   "outputs": [
    {
     "data": {
      "text/plain": [
       "2012-07-17     0\n",
       "2012-07-18     1\n",
       "2012-07-19     2\n",
       "2012-07-20     3\n",
       "2012-07-21     4\n",
       "2012-07-22     5\n",
       "2012-07-23     6\n",
       "2012-07-24     7\n",
       "2012-07-25     8\n",
       "2012-07-26     9\n",
       "2012-07-27    10\n",
       "2012-07-28    11\n",
       "2012-07-29    12\n",
       "2012-07-30    13\n",
       "2012-07-31    14\n",
       "2012-08-01    15\n",
       "2012-08-02    16\n",
       "2012-08-03    17\n",
       "2012-08-04    18\n",
       "2012-08-05    19\n",
       "2012-08-06    20\n",
       "2012-08-07    21\n",
       "2012-08-08    22\n",
       "2012-08-09    23\n",
       "2012-08-10    24\n",
       "2012-08-11    25\n",
       "2012-08-12    26\n",
       "2012-08-13    27\n",
       "2012-08-14    28\n",
       "2012-08-15    29\n",
       "              ..\n",
       "2012-09-01    46\n",
       "2012-09-02    47\n",
       "2012-09-03    48\n",
       "2012-09-04    49\n",
       "2012-09-05    50\n",
       "2012-09-06    51\n",
       "2012-09-07    52\n",
       "2012-09-08    53\n",
       "2012-09-09    54\n",
       "2012-09-10    55\n",
       "2012-09-11    56\n",
       "2012-09-12    57\n",
       "2012-09-13    58\n",
       "2012-09-14    59\n",
       "2012-09-15    60\n",
       "2012-09-16    61\n",
       "2012-09-17    62\n",
       "2012-09-18    63\n",
       "2012-09-19    64\n",
       "2012-09-20    65\n",
       "2012-09-21    66\n",
       "2012-09-22    67\n",
       "2012-09-23    68\n",
       "2012-09-24    69\n",
       "2012-09-25    70\n",
       "2012-09-26    71\n",
       "2012-09-27    72\n",
       "2012-09-28    73\n",
       "2012-09-29    74\n",
       "2012-09-30    75\n",
       "Freq: D, dtype: int64"
      ]
     },
     "execution_count": 23,
     "metadata": {},
     "output_type": "execute_result"
    }
   ],
   "source": [
    "ts['2012-7':'2012-9']"
   ]
  },
  {
   "cell_type": "code",
   "execution_count": 25,
   "metadata": {
    "collapsed": false
   },
   "outputs": [
    {
     "data": {
      "text/plain": [
       "2012-07-17      0\n",
       "2012-07-18      1\n",
       "2012-07-19      2\n",
       "2012-07-20      3\n",
       "2012-07-21      4\n",
       "2012-07-22      5\n",
       "2012-07-23      6\n",
       "2012-07-24      7\n",
       "2012-07-25      8\n",
       "2012-07-26      9\n",
       "2012-07-27     10\n",
       "2012-07-28     11\n",
       "2012-07-29     12\n",
       "2012-07-30     13\n",
       "2012-07-31     14\n",
       "2012-08-01     15\n",
       "2012-08-02     16\n",
       "2012-08-03     17\n",
       "2012-08-04     18\n",
       "2012-08-05     19\n",
       "2012-08-06     20\n",
       "2012-08-07     21\n",
       "2012-08-08     22\n",
       "2012-08-09     23\n",
       "2012-08-10     24\n",
       "2012-08-11     25\n",
       "2012-08-12     26\n",
       "2012-08-13     27\n",
       "2012-08-14     28\n",
       "2012-08-15     29\n",
       "             ... \n",
       "2012-12-02    138\n",
       "2012-12-03    139\n",
       "2012-12-04    140\n",
       "2012-12-05    141\n",
       "2012-12-06    142\n",
       "2012-12-07    143\n",
       "2012-12-08    144\n",
       "2012-12-09    145\n",
       "2012-12-10    146\n",
       "2012-12-11    147\n",
       "2012-12-12    148\n",
       "2012-12-13    149\n",
       "2012-12-14    150\n",
       "2012-12-15    151\n",
       "2012-12-16    152\n",
       "2012-12-17    153\n",
       "2012-12-18    154\n",
       "2012-12-19    155\n",
       "2012-12-20    156\n",
       "2012-12-21    157\n",
       "2012-12-22    158\n",
       "2012-12-23    159\n",
       "2012-12-24    160\n",
       "2012-12-25    161\n",
       "2012-12-26    162\n",
       "2012-12-27    163\n",
       "2012-12-28    164\n",
       "2012-12-29    165\n",
       "2012-12-30    166\n",
       "2012-12-31    167\n",
       "Freq: D, dtype: int64"
      ]
     },
     "execution_count": 25,
     "metadata": {},
     "output_type": "execute_result"
    }
   ],
   "source": [
    "ts['2012']"
   ]
  },
  {
   "cell_type": "code",
   "execution_count": 26,
   "metadata": {
    "collapsed": false
   },
   "outputs": [
    {
     "data": {
      "text/plain": [
       "2012-09-01     46\n",
       "2012-09-02     47\n",
       "2012-09-03     48\n",
       "2012-09-04     49\n",
       "2012-09-05     50\n",
       "2012-09-06     51\n",
       "2012-09-07     52\n",
       "2012-09-08     53\n",
       "2012-09-09     54\n",
       "2012-09-10     55\n",
       "2012-09-11     56\n",
       "2012-09-12     57\n",
       "2012-09-13     58\n",
       "2012-09-14     59\n",
       "2012-09-15     60\n",
       "2012-09-16     61\n",
       "2012-09-17     62\n",
       "2012-09-18     63\n",
       "2012-09-19     64\n",
       "2012-09-20     65\n",
       "2012-09-21     66\n",
       "2012-09-22     67\n",
       "2012-09-23     68\n",
       "2012-09-24     69\n",
       "2012-09-25     70\n",
       "2012-09-26     71\n",
       "2012-09-27     72\n",
       "2012-09-28     73\n",
       "2012-09-29     74\n",
       "2012-09-30     75\n",
       "             ... \n",
       "2013-12-02    503\n",
       "2013-12-03    504\n",
       "2013-12-04    505\n",
       "2013-12-05    506\n",
       "2013-12-06    507\n",
       "2013-12-07    508\n",
       "2013-12-08    509\n",
       "2013-12-09    510\n",
       "2013-12-10    511\n",
       "2013-12-11    512\n",
       "2013-12-12    513\n",
       "2013-12-13    514\n",
       "2013-12-14    515\n",
       "2013-12-15    516\n",
       "2013-12-16    517\n",
       "2013-12-17    518\n",
       "2013-12-18    519\n",
       "2013-12-19    520\n",
       "2013-12-20    521\n",
       "2013-12-21    522\n",
       "2013-12-22    523\n",
       "2013-12-23    524\n",
       "2013-12-24    525\n",
       "2013-12-25    526\n",
       "2013-12-26    527\n",
       "2013-12-27    528\n",
       "2013-12-28    529\n",
       "2013-12-29    530\n",
       "2013-12-30    531\n",
       "2013-12-31    532\n",
       "Freq: D, dtype: int64"
      ]
     },
     "execution_count": 26,
     "metadata": {},
     "output_type": "execute_result"
    }
   ],
   "source": [
    "ts['2012-9':'2013']"
   ]
  },
  {
   "cell_type": "code",
   "execution_count": 29,
   "metadata": {
    "collapsed": false
   },
   "outputs": [
    {
     "data": {
      "text/html": [
       "<div style=\"max-height:1000px;max-width:1500px;overflow:auto;\">\n",
       "<table border=\"1\" class=\"dataframe\">\n",
       "  <thead>\n",
       "    <tr style=\"text-align: right;\">\n",
       "      <th></th>\n",
       "      <th>Colorado</th>\n",
       "      <th>Texas</th>\n",
       "      <th>New York</th>\n",
       "      <th>Ohio</th>\n",
       "    </tr>\n",
       "  </thead>\n",
       "  <tbody>\n",
       "    <tr>\n",
       "      <th>2012-07-17</th>\n",
       "      <td>0</td>\n",
       "      <td>1</td>\n",
       "      <td>2</td>\n",
       "      <td>3</td>\n",
       "    </tr>\n",
       "    <tr>\n",
       "      <th>2012-07-18</th>\n",
       "      <td>4</td>\n",
       "      <td>5</td>\n",
       "      <td>6</td>\n",
       "      <td>7</td>\n",
       "    </tr>\n",
       "    <tr>\n",
       "      <th>2012-07-19</th>\n",
       "      <td>8</td>\n",
       "      <td>9</td>\n",
       "      <td>10</td>\n",
       "      <td>11</td>\n",
       "    </tr>\n",
       "    <tr>\n",
       "      <th>2012-07-20</th>\n",
       "      <td>12</td>\n",
       "      <td>13</td>\n",
       "      <td>14</td>\n",
       "      <td>15</td>\n",
       "    </tr>\n",
       "    <tr>\n",
       "      <th>2012-07-21</th>\n",
       "      <td>16</td>\n",
       "      <td>17</td>\n",
       "      <td>18</td>\n",
       "      <td>19</td>\n",
       "    </tr>\n",
       "  </tbody>\n",
       "</table>\n",
       "</div>"
      ],
      "text/plain": [
       "            Colorado  Texas  New York  Ohio\n",
       "2012-07-17         0      1         2     3\n",
       "2012-07-18         4      5         6     7\n",
       "2012-07-19         8      9        10    11\n",
       "2012-07-20        12     13        14    15\n",
       "2012-07-21        16     17        18    19"
      ]
     },
     "execution_count": 29,
     "metadata": {},
     "output_type": "execute_result"
    }
   ],
   "source": [
    "df = DataFrame(np.arange(4000).reshape((1000,4)), index = rng, columns = [\n",
    "        'Colorado', 'Texas', 'New York', 'Ohio'])\n",
    "df.head()"
   ]
  },
  {
   "cell_type": "code",
   "execution_count": 31,
   "metadata": {
    "collapsed": false
   },
   "outputs": [
    {
     "data": {
      "text/html": [
       "<div style=\"max-height:1000px;max-width:1500px;overflow:auto;\">\n",
       "<table border=\"1\" class=\"dataframe\">\n",
       "  <thead>\n",
       "    <tr style=\"text-align: right;\">\n",
       "      <th></th>\n",
       "      <th>Colorado</th>\n",
       "      <th>Texas</th>\n",
       "      <th>New York</th>\n",
       "      <th>Ohio</th>\n",
       "    </tr>\n",
       "  </thead>\n",
       "  <tbody>\n",
       "    <tr>\n",
       "      <th>2012-07-17</th>\n",
       "      <td>0</td>\n",
       "      <td>1</td>\n",
       "      <td>2</td>\n",
       "      <td>3</td>\n",
       "    </tr>\n",
       "    <tr>\n",
       "      <th>2012-07-18</th>\n",
       "      <td>4</td>\n",
       "      <td>5</td>\n",
       "      <td>6</td>\n",
       "      <td>7</td>\n",
       "    </tr>\n",
       "    <tr>\n",
       "      <th>2012-07-19</th>\n",
       "      <td>8</td>\n",
       "      <td>9</td>\n",
       "      <td>10</td>\n",
       "      <td>11</td>\n",
       "    </tr>\n",
       "    <tr>\n",
       "      <th>2012-07-20</th>\n",
       "      <td>12</td>\n",
       "      <td>13</td>\n",
       "      <td>14</td>\n",
       "      <td>15</td>\n",
       "    </tr>\n",
       "    <tr>\n",
       "      <th>2012-07-21</th>\n",
       "      <td>16</td>\n",
       "      <td>17</td>\n",
       "      <td>18</td>\n",
       "      <td>19</td>\n",
       "    </tr>\n",
       "    <tr>\n",
       "      <th>2012-07-22</th>\n",
       "      <td>20</td>\n",
       "      <td>21</td>\n",
       "      <td>22</td>\n",
       "      <td>23</td>\n",
       "    </tr>\n",
       "    <tr>\n",
       "      <th>2012-07-23</th>\n",
       "      <td>24</td>\n",
       "      <td>25</td>\n",
       "      <td>26</td>\n",
       "      <td>27</td>\n",
       "    </tr>\n",
       "    <tr>\n",
       "      <th>2012-07-24</th>\n",
       "      <td>28</td>\n",
       "      <td>29</td>\n",
       "      <td>30</td>\n",
       "      <td>31</td>\n",
       "    </tr>\n",
       "    <tr>\n",
       "      <th>2012-07-25</th>\n",
       "      <td>32</td>\n",
       "      <td>33</td>\n",
       "      <td>34</td>\n",
       "      <td>35</td>\n",
       "    </tr>\n",
       "    <tr>\n",
       "      <th>2012-07-26</th>\n",
       "      <td>36</td>\n",
       "      <td>37</td>\n",
       "      <td>38</td>\n",
       "      <td>39</td>\n",
       "    </tr>\n",
       "    <tr>\n",
       "      <th>2012-07-27</th>\n",
       "      <td>40</td>\n",
       "      <td>41</td>\n",
       "      <td>42</td>\n",
       "      <td>43</td>\n",
       "    </tr>\n",
       "    <tr>\n",
       "      <th>2012-07-28</th>\n",
       "      <td>44</td>\n",
       "      <td>45</td>\n",
       "      <td>46</td>\n",
       "      <td>47</td>\n",
       "    </tr>\n",
       "    <tr>\n",
       "      <th>2012-07-29</th>\n",
       "      <td>48</td>\n",
       "      <td>49</td>\n",
       "      <td>50</td>\n",
       "      <td>51</td>\n",
       "    </tr>\n",
       "    <tr>\n",
       "      <th>2012-07-30</th>\n",
       "      <td>52</td>\n",
       "      <td>53</td>\n",
       "      <td>54</td>\n",
       "      <td>55</td>\n",
       "    </tr>\n",
       "    <tr>\n",
       "      <th>2012-07-31</th>\n",
       "      <td>56</td>\n",
       "      <td>57</td>\n",
       "      <td>58</td>\n",
       "      <td>59</td>\n",
       "    </tr>\n",
       "  </tbody>\n",
       "</table>\n",
       "</div>"
      ],
      "text/plain": [
       "            Colorado  Texas  New York  Ohio\n",
       "2012-07-17         0      1         2     3\n",
       "2012-07-18         4      5         6     7\n",
       "2012-07-19         8      9        10    11\n",
       "2012-07-20        12     13        14    15\n",
       "2012-07-21        16     17        18    19\n",
       "2012-07-22        20     21        22    23\n",
       "2012-07-23        24     25        26    27\n",
       "2012-07-24        28     29        30    31\n",
       "2012-07-25        32     33        34    35\n",
       "2012-07-26        36     37        38    39\n",
       "2012-07-27        40     41        42    43\n",
       "2012-07-28        44     45        46    47\n",
       "2012-07-29        48     49        50    51\n",
       "2012-07-30        52     53        54    55\n",
       "2012-07-31        56     57        58    59"
      ]
     },
     "execution_count": 31,
     "metadata": {},
     "output_type": "execute_result"
    }
   ],
   "source": [
    "df.ix['2012-07']"
   ]
  },
  {
   "cell_type": "code",
   "execution_count": 33,
   "metadata": {
    "collapsed": false
   },
   "outputs": [
    {
     "data": {
      "text/plain": [
       "Colorado    12\n",
       "Texas       13\n",
       "New York    14\n",
       "Ohio        15\n",
       "Name: 2012-07-20 00:00:00, dtype: int64"
      ]
     },
     "execution_count": 33,
     "metadata": {},
     "output_type": "execute_result"
    }
   ],
   "source": [
    "df.ix['2012-07-20']"
   ]
  },
  {
   "cell_type": "code",
   "execution_count": 34,
   "metadata": {
    "collapsed": true
   },
   "outputs": [],
   "source": [
    "from datetime import timedelta"
   ]
  },
  {
   "cell_type": "code",
   "execution_count": 49,
   "metadata": {
    "collapsed": false
   },
   "outputs": [
    {
     "ename": "TypeError",
     "evalue": "unsupported operand type(s) for *: 'datetime.datetime' and 'int'",
     "output_type": "error",
     "traceback": [
      "\u001b[0;31m---------------------------------------------------------------------------\u001b[0m",
      "\u001b[0;31mTypeError\u001b[0m                                 Traceback (most recent call last)",
      "\u001b[0;32m<ipython-input-49-3f00023a2476>\u001b[0m in \u001b[0;36m<module>\u001b[0;34m()\u001b[0m\n\u001b[1;32m      1\u001b[0m \u001b[0mstart\u001b[0m \u001b[0;34m=\u001b[0m \u001b[0mdatetime\u001b[0m\u001b[0;34m(\u001b[0m\u001b[0;36m2012\u001b[0m\u001b[0;34m,\u001b[0m \u001b[0;36m12\u001b[0m\u001b[0;34m,\u001b[0m \u001b[0;36m31\u001b[0m\u001b[0;34m)\u001b[0m\u001b[0;34m\u001b[0m\u001b[0m\n\u001b[0;32m----> 2\u001b[0;31m \u001b[0mdf\u001b[0m\u001b[0;34m.\u001b[0m\u001b[0mix\u001b[0m\u001b[0;34m[\u001b[0m\u001b[0mstart\u001b[0m\u001b[0;34m:\u001b[0m\u001b[0mstart\u001b[0m \u001b[0;34m*\u001b[0m \u001b[0mpd\u001b[0m\u001b[0;34m.\u001b[0m\u001b[0moffsets\u001b[0m\u001b[0;34m.\u001b[0m\u001b[0mDay\u001b[0m\u001b[0;34m(\u001b[0m\u001b[0;36m11\u001b[0m\u001b[0;34m)\u001b[0m\u001b[0;34m]\u001b[0m\u001b[0;34m\u001b[0m\u001b[0m\n\u001b[0m",
      "\u001b[0;32m/Applications/anaconda/lib/python2.7/site-packages/pandas/tseries/offsets.pyc\u001b[0m in \u001b[0;36m__rmul__\u001b[0;34m(self, someInt)\u001b[0m\n\u001b[1;32m    330\u001b[0m \u001b[0;34m\u001b[0m\u001b[0m\n\u001b[1;32m    331\u001b[0m     \u001b[0;32mdef\u001b[0m \u001b[0m__rmul__\u001b[0m\u001b[0;34m(\u001b[0m\u001b[0mself\u001b[0m\u001b[0;34m,\u001b[0m \u001b[0msomeInt\u001b[0m\u001b[0;34m)\u001b[0m\u001b[0;34m:\u001b[0m\u001b[0;34m\u001b[0m\u001b[0m\n\u001b[0;32m--> 332\u001b[0;31m         \u001b[0;32mreturn\u001b[0m \u001b[0mself\u001b[0m\u001b[0;34m.\u001b[0m\u001b[0m__mul__\u001b[0m\u001b[0;34m(\u001b[0m\u001b[0msomeInt\u001b[0m\u001b[0;34m)\u001b[0m\u001b[0;34m\u001b[0m\u001b[0m\n\u001b[0m\u001b[1;32m    333\u001b[0m \u001b[0;34m\u001b[0m\u001b[0m\n\u001b[1;32m    334\u001b[0m     \u001b[0;32mdef\u001b[0m \u001b[0m__neg__\u001b[0m\u001b[0;34m(\u001b[0m\u001b[0mself\u001b[0m\u001b[0;34m)\u001b[0m\u001b[0;34m:\u001b[0m\u001b[0;34m\u001b[0m\u001b[0m\n",
      "\u001b[0;32m/Applications/anaconda/lib/python2.7/site-packages/pandas/tseries/offsets.pyc\u001b[0m in \u001b[0;36m__mul__\u001b[0;34m(self, someInt)\u001b[0m\n\u001b[1;32m    327\u001b[0m \u001b[0;34m\u001b[0m\u001b[0m\n\u001b[1;32m    328\u001b[0m     \u001b[0;32mdef\u001b[0m \u001b[0m__mul__\u001b[0m\u001b[0;34m(\u001b[0m\u001b[0mself\u001b[0m\u001b[0;34m,\u001b[0m \u001b[0msomeInt\u001b[0m\u001b[0;34m)\u001b[0m\u001b[0;34m:\u001b[0m\u001b[0;34m\u001b[0m\u001b[0m\n\u001b[0;32m--> 329\u001b[0;31m         \u001b[0;32mreturn\u001b[0m \u001b[0mself\u001b[0m\u001b[0;34m.\u001b[0m\u001b[0m__class__\u001b[0m\u001b[0;34m(\u001b[0m\u001b[0mn\u001b[0m\u001b[0;34m=\u001b[0m\u001b[0msomeInt\u001b[0m \u001b[0;34m*\u001b[0m \u001b[0mself\u001b[0m\u001b[0;34m.\u001b[0m\u001b[0mn\u001b[0m\u001b[0;34m,\u001b[0m \u001b[0mnormalize\u001b[0m\u001b[0;34m=\u001b[0m\u001b[0mself\u001b[0m\u001b[0;34m.\u001b[0m\u001b[0mnormalize\u001b[0m\u001b[0;34m,\u001b[0m \u001b[0;34m**\u001b[0m\u001b[0mself\u001b[0m\u001b[0;34m.\u001b[0m\u001b[0mkwds\u001b[0m\u001b[0;34m)\u001b[0m\u001b[0;34m\u001b[0m\u001b[0m\n\u001b[0m\u001b[1;32m    330\u001b[0m \u001b[0;34m\u001b[0m\u001b[0m\n\u001b[1;32m    331\u001b[0m     \u001b[0;32mdef\u001b[0m \u001b[0m__rmul__\u001b[0m\u001b[0;34m(\u001b[0m\u001b[0mself\u001b[0m\u001b[0;34m,\u001b[0m \u001b[0msomeInt\u001b[0m\u001b[0;34m)\u001b[0m\u001b[0;34m:\u001b[0m\u001b[0;34m\u001b[0m\u001b[0m\n",
      "\u001b[0;31mTypeError\u001b[0m: unsupported operand type(s) for *: 'datetime.datetime' and 'int'"
     ]
    }
   ],
   "source": [
    "start = datetime(2012, 12, 31)\n",
    "df.ix[start:start * pd.offsets.Day(11)]"
   ]
  },
  {
   "cell_type": "code",
   "execution_count": 36,
   "metadata": {
    "collapsed": false
   },
   "outputs": [
    {
     "data": {
      "text/plain": [
       "[Timestamp('2000-01-01 00:00:00', offset='D'),\n",
       " Timestamp('2000-01-02 00:00:00', offset='D'),\n",
       " Timestamp('2000-01-03 00:00:00', offset='D'),\n",
       " Timestamp('2000-01-04 00:00:00', offset='D'),\n",
       " Timestamp('2000-01-05 00:00:00', offset='D')]"
      ]
     },
     "execution_count": 36,
     "metadata": {},
     "output_type": "execute_result"
    }
   ],
   "source": [
    "list(pd.date_range('2000-01-01', periods = 5))"
   ]
  },
  {
   "cell_type": "code",
   "execution_count": 37,
   "metadata": {
    "collapsed": false
   },
   "outputs": [
    {
     "data": {
      "text/plain": [
       "[Timestamp('2000-01-31 00:00:00', offset='M'),\n",
       " Timestamp('2000-02-29 00:00:00', offset='M'),\n",
       " Timestamp('2000-03-31 00:00:00', offset='M'),\n",
       " Timestamp('2000-04-30 00:00:00', offset='M'),\n",
       " Timestamp('2000-05-31 00:00:00', offset='M')]"
      ]
     },
     "execution_count": 37,
     "metadata": {},
     "output_type": "execute_result"
    }
   ],
   "source": [
    "list(pd.date_range('2000-01-01', periods = 5, freq = 'M')) #month end"
   ]
  },
  {
   "cell_type": "code",
   "execution_count": 38,
   "metadata": {
    "collapsed": false
   },
   "outputs": [
    {
     "data": {
      "text/plain": [
       "[Timestamp('2000-01-31 00:00:00', offset='BM'),\n",
       " Timestamp('2000-02-29 00:00:00', offset='BM'),\n",
       " Timestamp('2000-03-31 00:00:00', offset='BM'),\n",
       " Timestamp('2000-04-28 00:00:00', offset='BM'),\n",
       " Timestamp('2000-05-31 00:00:00', offset='BM')]"
      ]
     },
     "execution_count": 38,
     "metadata": {},
     "output_type": "execute_result"
    }
   ],
   "source": [
    "list(pd.date_range('2000-01-01', periods = 5, freq = 'BM')) #business month"
   ]
  },
  {
   "cell_type": "code",
   "execution_count": 39,
   "metadata": {
    "collapsed": false
   },
   "outputs": [
    {
     "data": {
      "text/plain": [
       "[Timestamp('2000-01-01 00:00:00', offset='MS'),\n",
       " Timestamp('2000-02-01 00:00:00', offset='MS'),\n",
       " Timestamp('2000-03-01 00:00:00', offset='MS'),\n",
       " Timestamp('2000-04-01 00:00:00', offset='MS'),\n",
       " Timestamp('2000-05-01 00:00:00', offset='MS')]"
      ]
     },
     "execution_count": 39,
     "metadata": {},
     "output_type": "execute_result"
    }
   ],
   "source": [
    "list(pd.date_range('2000-01-01', periods = 5, freq = 'MS')) #month start"
   ]
  },
  {
   "cell_type": "code",
   "execution_count": 40,
   "metadata": {
    "collapsed": false
   },
   "outputs": [
    {
     "data": {
      "text/plain": [
       "[Timestamp('2000-01-03 00:00:00', offset='BMS'),\n",
       " Timestamp('2000-02-01 00:00:00', offset='BMS'),\n",
       " Timestamp('2000-03-01 00:00:00', offset='BMS'),\n",
       " Timestamp('2000-04-03 00:00:00', offset='BMS'),\n",
       " Timestamp('2000-05-01 00:00:00', offset='BMS')]"
      ]
     },
     "execution_count": 40,
     "metadata": {},
     "output_type": "execute_result"
    }
   ],
   "source": [
    "list(pd.date_range('2000-01-01', periods = 5, freq = 'BMS')) #business month start"
   ]
  },
  {
   "cell_type": "code",
   "execution_count": 41,
   "metadata": {
    "collapsed": false
   },
   "outputs": [
    {
     "data": {
      "text/plain": [
       "[Timestamp('2000-01-04 00:00:00', offset='W-TUE'),\n",
       " Timestamp('2000-01-11 00:00:00', offset='W-TUE'),\n",
       " Timestamp('2000-01-18 00:00:00', offset='W-TUE'),\n",
       " Timestamp('2000-01-25 00:00:00', offset='W-TUE'),\n",
       " Timestamp('2000-02-01 00:00:00', offset='W-TUE')]"
      ]
     },
     "execution_count": 41,
     "metadata": {},
     "output_type": "execute_result"
    }
   ],
   "source": [
    "list(pd.date_range('2000-01-01', periods = 5, freq = 'W-TUE'))"
   ]
  },
  {
   "cell_type": "code",
   "execution_count": 42,
   "metadata": {
    "collapsed": false
   },
   "outputs": [
    {
     "data": {
      "text/plain": [
       "[Timestamp('2000-01-01 00:00:00', offset='W-SAT'),\n",
       " Timestamp('2000-01-08 00:00:00', offset='W-SAT'),\n",
       " Timestamp('2000-01-15 00:00:00', offset='W-SAT'),\n",
       " Timestamp('2000-01-22 00:00:00', offset='W-SAT'),\n",
       " Timestamp('2000-01-29 00:00:00', offset='W-SAT')]"
      ]
     },
     "execution_count": 42,
     "metadata": {},
     "output_type": "execute_result"
    }
   ],
   "source": [
    "list(pd.date_range('2000-01-01', periods = 5, freq = 'W-SAT'))"
   ]
  },
  {
   "cell_type": "code",
   "execution_count": 43,
   "metadata": {
    "collapsed": false
   },
   "outputs": [
    {
     "data": {
      "text/plain": [
       "[Timestamp('2000-06-30 00:00:00', offset='A-JUN'),\n",
       " Timestamp('2001-06-30 00:00:00', offset='A-JUN'),\n",
       " Timestamp('2002-06-30 00:00:00', offset='A-JUN'),\n",
       " Timestamp('2003-06-30 00:00:00', offset='A-JUN'),\n",
       " Timestamp('2004-06-30 00:00:00', offset='A-JUN')]"
      ]
     },
     "execution_count": 43,
     "metadata": {},
     "output_type": "execute_result"
    }
   ],
   "source": [
    "list(pd.date_range('2000-01-01', periods = 5, freq = 'A-JUN'))"
   ]
  },
  {
   "cell_type": "code",
   "execution_count": 44,
   "metadata": {
    "collapsed": false
   },
   "outputs": [
    {
     "data": {
      "text/plain": [
       "[Timestamp('2000-02-29 00:00:00', offset='A-FEB'),\n",
       " Timestamp('2001-02-28 00:00:00', offset='A-FEB'),\n",
       " Timestamp('2002-02-28 00:00:00', offset='A-FEB'),\n",
       " Timestamp('2003-02-28 00:00:00', offset='A-FEB'),\n",
       " Timestamp('2004-02-29 00:00:00', offset='A-FEB')]"
      ]
     },
     "execution_count": 44,
     "metadata": {},
     "output_type": "execute_result"
    }
   ],
   "source": [
    "list(pd.date_range('2000-01-01', periods = 5, freq = 'A-FEB'))"
   ]
  },
  {
   "cell_type": "code",
   "execution_count": 45,
   "metadata": {
    "collapsed": false
   },
   "outputs": [
    {
     "data": {
      "text/plain": [
       "[Timestamp('2000-02-29 00:00:00', offset='BA-FEB'),\n",
       " Timestamp('2001-02-28 00:00:00', offset='BA-FEB'),\n",
       " Timestamp('2002-02-28 00:00:00', offset='BA-FEB'),\n",
       " Timestamp('2003-02-28 00:00:00', offset='BA-FEB'),\n",
       " Timestamp('2004-02-27 00:00:00', offset='BA-FEB')]"
      ]
     },
     "execution_count": 45,
     "metadata": {},
     "output_type": "execute_result"
    }
   ],
   "source": [
    "list(pd.date_range('2000-01-01', periods = 5, freq = 'BA-FEB'))"
   ]
  },
  {
   "cell_type": "code",
   "execution_count": 46,
   "metadata": {
    "collapsed": false
   },
   "outputs": [
    {
     "data": {
      "text/plain": [
       "[Timestamp('2000-03-31 00:00:00', offset='Q-DEC'),\n",
       " Timestamp('2000-06-30 00:00:00', offset='Q-DEC'),\n",
       " Timestamp('2000-09-30 00:00:00', offset='Q-DEC'),\n",
       " Timestamp('2000-12-31 00:00:00', offset='Q-DEC'),\n",
       " Timestamp('2001-03-31 00:00:00', offset='Q-DEC')]"
      ]
     },
     "execution_count": 46,
     "metadata": {},
     "output_type": "execute_result"
    }
   ],
   "source": [
    "list(pd.date_range('2000-01-01', periods = 5, freq = 'Q-DEC'))"
   ]
  },
  {
   "cell_type": "code",
   "execution_count": 47,
   "metadata": {
    "collapsed": false
   },
   "outputs": [
    {
     "data": {
      "text/plain": [
       "[Timestamp('2000-01-21 00:00:00', offset='WOM-3FRI'),\n",
       " Timestamp('2000-02-18 00:00:00', offset='WOM-3FRI'),\n",
       " Timestamp('2000-03-17 00:00:00', offset='WOM-3FRI'),\n",
       " Timestamp('2000-04-21 00:00:00', offset='WOM-3FRI'),\n",
       " Timestamp('2000-05-19 00:00:00', offset='WOM-3FRI')]"
      ]
     },
     "execution_count": 47,
     "metadata": {},
     "output_type": "execute_result"
    }
   ],
   "source": [
    "list(pd.date_range('2000-01-01', periods = 5, freq = 'WOM-3FRI')) #third friday of month"
   ]
  },
  {
   "cell_type": "code",
   "execution_count": null,
   "metadata": {
    "collapsed": true
   },
   "outputs": [],
   "source": []
  }
 ],
 "metadata": {
  "kernelspec": {
   "display_name": "Python 2",
   "language": "python",
   "name": "python2"
  },
  "language_info": {
   "codemirror_mode": {
    "name": "ipython",
    "version": 2
   },
   "file_extension": ".py",
   "mimetype": "text/x-python",
   "name": "python",
   "nbconvert_exporter": "python",
   "pygments_lexer": "ipython2",
   "version": "2.7.9"
  }
 },
 "nbformat": 4,
 "nbformat_minor": 0
}
