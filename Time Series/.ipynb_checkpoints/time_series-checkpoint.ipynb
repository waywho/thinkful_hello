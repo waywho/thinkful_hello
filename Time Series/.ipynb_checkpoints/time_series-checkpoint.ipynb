{
 "cells": [
  {
   "cell_type": "code",
   "execution_count": 18,
   "metadata": {
    "collapsed": true
   },
   "outputs": [],
   "source": [
    "%matplotlib inline\n",
    "import numpy as np\n",
    "from pandas import Series, DataFrame\n",
    "import pandas as pd\n",
    "from datetime import datetime"
   ]
  },
  {
   "cell_type": "code",
   "execution_count": 23,
   "metadata": {
    "collapsed": false
   },
   "outputs": [],
   "source": [
    "df = pd.read_csv('~/Dropbox/Thinkful/LoanStats/LoanStats3b.csv', header=1, low_memory=False)"
   ]
  },
  {
   "cell_type": "code",
   "execution_count": 24,
   "metadata": {
    "collapsed": false
   },
   "outputs": [
    {
     "data": {
      "text/plain": [
       "id                                                                      10159548\n",
       "member_id                                                           1.201117e+07\n",
       "loan_amnt                                                                  15000\n",
       "funded_amnt                                                                15000\n",
       "funded_amnt_inv                                                            15000\n",
       "term                                                                   36 months\n",
       "int_rate                                                                   8.90%\n",
       "installment                                                                476.3\n",
       "grade                                                                          A\n",
       "sub_grade                                                                     A5\n",
       "emp_title                                          aircraft maintenance engineer\n",
       "emp_length                                                               2 years\n",
       "home_ownership                                                          MORTGAGE\n",
       "annual_inc                                                                 63000\n",
       "is_inc_v                                                            Not Verified\n",
       "issue_d                                                                 Dec-2013\n",
       "loan_status                                                              Current\n",
       "pymnt_plan                                                                     n\n",
       "url                            https://www.lendingclub.com/browse/loanDetail....\n",
       "desc                             Borrower added on 12/31/13 > To pay Home Dep...\n",
       "purpose                                                       debt_consolidation\n",
       "title                                                                    Pay off\n",
       "zip_code                                                                   334xx\n",
       "addr_state                                                                    FL\n",
       "dti                                                                        16.51\n",
       "delinq_2yrs                                                                    0\n",
       "earliest_cr_line                                                        Mar-1998\n",
       "inq_last_6mths                                                                 0\n",
       "mths_since_last_delinq                                                        34\n",
       "mths_since_last_record                                                       NaN\n",
       "open_acc                                                                       8\n",
       "pub_rec                                                                        0\n",
       "revol_bal                                                                  11431\n",
       "revol_util                                                                 74.2%\n",
       "total_acc                                                                     29\n",
       "initial_list_status                                                            w\n",
       "out_prncp                                                                9635.46\n",
       "out_prncp_inv                                                            9635.46\n",
       "total_pymnt                                                               6668.2\n",
       "total_pymnt_inv                                                           6668.2\n",
       "total_rec_prncp                                                          5364.54\n",
       "total_rec_int                                                            1303.66\n",
       "total_rec_late_fee                                                             0\n",
       "recoveries                                                                     0\n",
       "collection_recovery_fee                                                        0\n",
       "last_pymnt_d                                                            Mar-2015\n",
       "last_pymnt_amnt                                                            476.3\n",
       "next_pymnt_d                                                            May-2015\n",
       "last_credit_pull_d                                                      Mar-2015\n",
       "collections_12_mths_ex_med                                                     0\n",
       "mths_since_last_major_derog                                                   34\n",
       "policy_code                                                                    1\n",
       "Name: 0, dtype: object"
      ]
     },
     "execution_count": 24,
     "metadata": {},
     "output_type": "execute_result"
    }
   ],
   "source": [
    "df.ix[0]"
   ]
  },
  {
   "cell_type": "code",
   "execution_count": 25,
   "metadata": {
    "collapsed": false
   },
   "outputs": [
    {
     "data": {
      "text/plain": [
       "0    Dec-2013\n",
       "1    Dec-2013\n",
       "2    Dec-2013\n",
       "3    Dec-2013\n",
       "4    Dec-2013\n",
       "Name: issue_d, dtype: object"
      ]
     },
     "execution_count": 25,
     "metadata": {},
     "output_type": "execute_result"
    }
   ],
   "source": [
    "df['issue_d'].head()"
   ]
  },
  {
   "cell_type": "code",
   "execution_count": null,
   "metadata": {
    "collapsed": true
   },
   "outputs": [],
   "source": []
  },
  {
   "cell_type": "code",
   "execution_count": 26,
   "metadata": {
    "collapsed": true
   },
   "outputs": [],
   "source": [
    "# converts string to datetime object in pandas:\n",
    "df['issue_d_format'] = pd.to_datetime(df['issue_d']) \n",
    "dfts = df.set_index('issue_d_format') \n",
    "year_month_summary = dfts.groupby(lambda x : x.year * 100 + x.month).count()\n",
    "loan_count_summary = year_month_summary['issue_d']"
   ]
  },
  {
   "cell_type": "code",
   "execution_count": 21,
   "metadata": {
    "collapsed": false
   },
   "outputs": [
    {
     "data": {
      "text/html": [
       "<div style=\"max-height:1000px;max-width:1500px;overflow:auto;\">\n",
       "<table border=\"1\" class=\"dataframe\">\n",
       "  <thead>\n",
       "    <tr style=\"text-align: right;\">\n",
       "      <th></th>\n",
       "      <th>id</th>\n",
       "      <th>member_id</th>\n",
       "      <th>loan_amnt</th>\n",
       "      <th>funded_amnt</th>\n",
       "      <th>funded_amnt_inv</th>\n",
       "      <th>term</th>\n",
       "      <th>int_rate</th>\n",
       "      <th>installment</th>\n",
       "      <th>grade</th>\n",
       "      <th>sub_grade</th>\n",
       "      <th>...</th>\n",
       "      <th>total_rec_late_fee</th>\n",
       "      <th>recoveries</th>\n",
       "      <th>collection_recovery_fee</th>\n",
       "      <th>last_pymnt_d</th>\n",
       "      <th>last_pymnt_amnt</th>\n",
       "      <th>next_pymnt_d</th>\n",
       "      <th>last_credit_pull_d</th>\n",
       "      <th>collections_12_mths_ex_med</th>\n",
       "      <th>mths_since_last_major_derog</th>\n",
       "      <th>policy_code</th>\n",
       "    </tr>\n",
       "  </thead>\n",
       "  <tbody>\n",
       "    <tr>\n",
       "      <th>201201</th>\n",
       "      <td>2602</td>\n",
       "      <td>2602</td>\n",
       "      <td>2602</td>\n",
       "      <td>2602</td>\n",
       "      <td>2602</td>\n",
       "      <td>2602</td>\n",
       "      <td>2602</td>\n",
       "      <td>2602</td>\n",
       "      <td>2602</td>\n",
       "      <td>2602</td>\n",
       "      <td>...</td>\n",
       "      <td>2602</td>\n",
       "      <td>2602</td>\n",
       "      <td>2602</td>\n",
       "      <td>2597</td>\n",
       "      <td>2602</td>\n",
       "      <td>238</td>\n",
       "      <td>2602</td>\n",
       "      <td>2602</td>\n",
       "      <td>0</td>\n",
       "      <td>2602</td>\n",
       "    </tr>\n",
       "    <tr>\n",
       "      <th>201202</th>\n",
       "      <td>2560</td>\n",
       "      <td>2560</td>\n",
       "      <td>2560</td>\n",
       "      <td>2560</td>\n",
       "      <td>2560</td>\n",
       "      <td>2560</td>\n",
       "      <td>2560</td>\n",
       "      <td>2560</td>\n",
       "      <td>2560</td>\n",
       "      <td>2560</td>\n",
       "      <td>...</td>\n",
       "      <td>2560</td>\n",
       "      <td>2560</td>\n",
       "      <td>2560</td>\n",
       "      <td>2553</td>\n",
       "      <td>2560</td>\n",
       "      <td>240</td>\n",
       "      <td>2560</td>\n",
       "      <td>2560</td>\n",
       "      <td>0</td>\n",
       "      <td>2560</td>\n",
       "    </tr>\n",
       "    <tr>\n",
       "      <th>201203</th>\n",
       "      <td>2914</td>\n",
       "      <td>2914</td>\n",
       "      <td>2914</td>\n",
       "      <td>2914</td>\n",
       "      <td>2914</td>\n",
       "      <td>2914</td>\n",
       "      <td>2914</td>\n",
       "      <td>2914</td>\n",
       "      <td>2914</td>\n",
       "      <td>2914</td>\n",
       "      <td>...</td>\n",
       "      <td>2914</td>\n",
       "      <td>2914</td>\n",
       "      <td>2914</td>\n",
       "      <td>2909</td>\n",
       "      <td>2914</td>\n",
       "      <td>628</td>\n",
       "      <td>2914</td>\n",
       "      <td>2914</td>\n",
       "      <td>0</td>\n",
       "      <td>2914</td>\n",
       "    </tr>\n",
       "    <tr>\n",
       "      <th>201204</th>\n",
       "      <td>3230</td>\n",
       "      <td>3230</td>\n",
       "      <td>3230</td>\n",
       "      <td>3230</td>\n",
       "      <td>3230</td>\n",
       "      <td>3230</td>\n",
       "      <td>3230</td>\n",
       "      <td>3230</td>\n",
       "      <td>3230</td>\n",
       "      <td>3230</td>\n",
       "      <td>...</td>\n",
       "      <td>3230</td>\n",
       "      <td>3230</td>\n",
       "      <td>3230</td>\n",
       "      <td>3227</td>\n",
       "      <td>3230</td>\n",
       "      <td>1299</td>\n",
       "      <td>3230</td>\n",
       "      <td>3230</td>\n",
       "      <td>0</td>\n",
       "      <td>3230</td>\n",
       "    </tr>\n",
       "    <tr>\n",
       "      <th>201205</th>\n",
       "      <td>3400</td>\n",
       "      <td>3400</td>\n",
       "      <td>3400</td>\n",
       "      <td>3400</td>\n",
       "      <td>3400</td>\n",
       "      <td>3400</td>\n",
       "      <td>3400</td>\n",
       "      <td>3400</td>\n",
       "      <td>3400</td>\n",
       "      <td>3400</td>\n",
       "      <td>...</td>\n",
       "      <td>3400</td>\n",
       "      <td>3400</td>\n",
       "      <td>3400</td>\n",
       "      <td>3395</td>\n",
       "      <td>3400</td>\n",
       "      <td>1427</td>\n",
       "      <td>3400</td>\n",
       "      <td>3400</td>\n",
       "      <td>0</td>\n",
       "      <td>3400</td>\n",
       "    </tr>\n",
       "  </tbody>\n",
       "</table>\n",
       "<p>5 rows × 52 columns</p>\n",
       "</div>"
      ],
      "text/plain": [
       "          id  member_id  loan_amnt  funded_amnt  funded_amnt_inv  term  \\\n",
       "201201  2602       2602       2602         2602             2602  2602   \n",
       "201202  2560       2560       2560         2560             2560  2560   \n",
       "201203  2914       2914       2914         2914             2914  2914   \n",
       "201204  3230       3230       3230         3230             3230  3230   \n",
       "201205  3400       3400       3400         3400             3400  3400   \n",
       "\n",
       "        int_rate  installment  grade  sub_grade     ...       \\\n",
       "201201      2602         2602   2602       2602     ...        \n",
       "201202      2560         2560   2560       2560     ...        \n",
       "201203      2914         2914   2914       2914     ...        \n",
       "201204      3230         3230   3230       3230     ...        \n",
       "201205      3400         3400   3400       3400     ...        \n",
       "\n",
       "        total_rec_late_fee  recoveries  collection_recovery_fee  last_pymnt_d  \\\n",
       "201201                2602        2602                     2602          2597   \n",
       "201202                2560        2560                     2560          2553   \n",
       "201203                2914        2914                     2914          2909   \n",
       "201204                3230        3230                     3230          3227   \n",
       "201205                3400        3400                     3400          3395   \n",
       "\n",
       "        last_pymnt_amnt  next_pymnt_d  last_credit_pull_d  \\\n",
       "201201             2602           238                2602   \n",
       "201202             2560           240                2560   \n",
       "201203             2914           628                2914   \n",
       "201204             3230          1299                3230   \n",
       "201205             3400          1427                3400   \n",
       "\n",
       "        collections_12_mths_ex_med  mths_since_last_major_derog  policy_code  \n",
       "201201                        2602                            0         2602  \n",
       "201202                        2560                            0         2560  \n",
       "201203                        2914                            0         2914  \n",
       "201204                        3230                            0         3230  \n",
       "201205                        3400                            0         3400  \n",
       "\n",
       "[5 rows x 52 columns]"
      ]
     },
     "execution_count": 21,
     "metadata": {},
     "output_type": "execute_result"
    }
   ],
   "source": [
    "year_month_summary.head()"
   ]
  },
  {
   "cell_type": "code",
   "execution_count": 22,
   "metadata": {
    "collapsed": false
   },
   "outputs": [
    {
     "data": {
      "text/plain": [
       "201201    2602\n",
       "201202    2560\n",
       "201203    2914\n",
       "201204    3230\n",
       "201205    3400\n",
       "Name: issue_d, dtype: int64"
      ]
     },
     "execution_count": 22,
     "metadata": {},
     "output_type": "execute_result"
    }
   ],
   "source": [
    "loan_count_summary.head()"
   ]
  },
  {
   "cell_type": "code",
   "execution_count": 20,
   "metadata": {
    "collapsed": false
   },
   "outputs": [
    {
     "data": {
      "text/plain": [
       "<matplotlib.axes._subplots.AxesSubplot at 0x105ac50d0>"
      ]
     },
     "execution_count": 20,
     "metadata": {},
     "output_type": "execute_result"
    },
    {
     "data": {
      "image/png": "[encoded data removed]",
      "text/plain": [
       "<matplotlib.figure.Figure at 0x105cf7e10>"
      ]
     },
     "metadata": {},
     "output_type": "display_data"
    }
   ],
   "source": [
    "loan_count_summary.plot(kind = 'bar')"
   ]
  },
  {
   "cell_type": "code",
   "execution_count": null,
   "metadata": {
    "collapsed": true
   },
   "outputs": [],
   "source": []
  }
 ],
 "metadata": {
  "kernelspec": {
   "display_name": "Python 2",
   "language": "python",
   "name": "python2"
  },
  "language_info": {
   "codemirror_mode": {
    "name": "ipython",
    "version": 2
   },
   "file_extension": ".py",
   "mimetype": "text/x-python",
   "name": "python",
   "nbconvert_exporter": "python",
   "pygments_lexer": "ipython2",
   "version": "2.7.9"
  }
 },
 "nbformat": 4,
 "nbformat_minor": 0
}
